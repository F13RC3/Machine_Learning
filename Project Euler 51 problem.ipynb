{
 "cells": [
  {
   "cell_type": "code",
   "execution_count": 2,
   "metadata": {},
   "outputs": [],
   "source": [
    "import time as t\n",
    "import dill\n",
    "# dill.dump_session('pe51.db')\n",
    "dill.load_session('pe51.db')"
   ]
  },
  {
   "cell_type": "markdown",
   "metadata": {},
   "source": [
    "# Functions used in main code"
   ]
  },
  {
   "cell_type": "code",
   "execution_count": 60,
   "metadata": {},
   "outputs": [],
   "source": [
    "# Sieve of Eratosthenes method for finding prime number\n",
    "start = t.time()\n",
    "def prime_generation(n):\n",
    "    \n",
    "    primes = []\n",
    "    prime = [True for i in range(n+1)]\n",
    "    p=2\n",
    "    while (p*p <= n):\n",
    "        if (prime[p] == True):\n",
    "            for i in range(p*p, n+1, p):\n",
    "                prime[i] = False\n",
    "        p += 1\n",
    "    \n",
    "    for i in range(2, n):\n",
    "        if prime[i] == True:\n",
    "            primes.append(i)\n",
    "\n",
    "    return primes\n",
    "            \n",
    "primes = prime_generation(1000000)\n"
   ]
  },
  {
   "cell_type": "code",
   "execution_count": 61,
   "metadata": {},
   "outputs": [],
   "source": [
    "# to check if its prime or not after replacement\n",
    "def is_prime(n):\n",
    "    \"\"\"\n",
    "    Assumes that n is a positive natural number\n",
    "    \"\"\"\n",
    "    # We know 1 is not a prime number\n",
    "    if n == 1:\n",
    "        return False\n",
    "\n",
    "    i = 2\n",
    "    # This will loop from 2 to int(sqrt(x))\n",
    "    while i*i <= n:\n",
    "        # Check if i divides x without leaving a remainder\n",
    "        if n % i == 0:\n",
    "            # This means that n has a factor in between 2 and sqrt(n)\n",
    "            # So it is not a prime number\n",
    "            return False\n",
    "        i += 1\n",
    "    # If we did not find any factor in the above loop,\n",
    "    # then n is a prime number\n",
    "    return True"
   ]
  },
  {
   "cell_type": "code",
   "execution_count": 62,
   "metadata": {},
   "outputs": [],
   "source": [
    "# to find the repeated digits from the number as well its count\n",
    "def duplicate_count(text):\n",
    "\n",
    "    #elem is an array of the unique elements in a string\n",
    "    #and count is its corresponding frequency\n",
    "    elem, count = np.unique(tuple(text), return_counts=True)\n",
    "\n",
    "    return elem,count\n",
    "\n",
    "# to find the index of repeated values\n",
    "# use source.index"
   ]
  },
  {
   "cell_type": "code",
   "execution_count": 16,
   "metadata": {},
   "outputs": [
    {
     "data": {
      "text/plain": [
       "'1'"
      ]
     },
     "execution_count": 16,
     "metadata": {},
     "output_type": "execute_result"
    }
   ],
   "source": [
    "source = \"121213\"\n",
    "\n",
    "\n",
    "a, b = duplicate_count(source)\n",
    "a[b.argmax(axis=0)]\n",
    "b.max(axis=0)\n",
    "# print(list_duplicates_of(source, a[b.argmax(axis=0)])\n",
    "# source[arr[0]]\n",
    "# a[b.argmax(axis=0)]\n",
    "# arr\n",
    "# source.index('1')\n",
    "a[b.argmax(axis=0)]\n",
    "# b"
   ]
  },
  {
   "cell_type": "markdown",
   "metadata": {},
   "source": [
    "# Main Logic"
   ]
  },
  {
   "cell_type": "code",
   "execution_count": 64,
   "metadata": {},
   "outputs": [],
   "source": [
    "\n",
    "# finding all the primes having 6 digit with 3 repeated digits\n",
    "primes_six = []\n",
    "for i in range(len(primes)):\n",
    "    if len((str(primes[i]))) > 5:\n",
    "        a, b = duplicate_count(str(primes[i]))\n",
    "        if b.max(axis=0) == 3: # change 3 according to the repeatition\n",
    "            primes_six.append(primes[i])"
   ]
  },
  {
   "cell_type": "code",
   "execution_count": 65,
   "metadata": {},
   "outputs": [],
   "source": [
    "# finding all the primes having 6 digit with 3 repeated digits and \n",
    "# replacing the repeated digits with 0-9\n",
    "reps = [f'{j}' for j in range(0, 10)]\n",
    "final_list = []\n",
    "\n",
    "for i in range(len(primes_six)):\n",
    "    number = str(primes_six[i])\n",
    "    a, b = duplicate_count(number)\n",
    "    r_num = a[b.argmax(axis=0)] # Repeated number\n",
    "    # Replacing digits with maximum repitions\n",
    "    new_number = []\n",
    "    for j in reps:\n",
    "        new_number.append(number.replace(r_num, j))\n",
    "    final_list.append(new_number)\n",
    "    \n"
   ]
  },
  {
   "cell_type": "raw",
   "metadata": {},
   "source": [
    "# prime numbers ending with 3\n",
    "list_final = []\n",
    "for i in range(len(primes_six)):\n",
    "    n = str(primes_six[i])\n",
    "    if n[-1] == '3':\n",
    "        list_final.append(n)\n"
   ]
  },
  {
   "cell_type": "raw",
   "metadata": {},
   "source": [
    "# prime numbers ending with 3\n",
    "# replacing the repeated digits with 0-9\n",
    "reps = [f'{j}' for j in range(0, 10)]\n",
    "final_list = []\n",
    "\n",
    "for i in range(len(list_final)):\n",
    "    number = str(primes_six[i])\n",
    "    a, b = duplicate_count(number)\n",
    "    r_num = a[b.argmax(axis=0)] # Repeated number\n",
    "    # Replacing digits with maximum repitions\n",
    "    new_number = []\n",
    "    for j in reps:\n",
    "        new_number.append(number.replace(r_num, j))\n",
    "    final_list.append(new_number)\n",
    "    "
   ]
  },
  {
   "cell_type": "code",
   "execution_count": 66,
   "metadata": {},
   "outputs": [],
   "source": [
    "# Replacing non primes with empty string\n",
    "for i in range(len(final_list)):\n",
    "    series = final_list[i]\n",
    "    for j in range(len(series)):\n",
    "        arr = []\n",
    "        if (is_prime(int(series[j])) == False) or (series[j].startswith('0') == True):\n",
    "            series[j] = ''\n",
    "        else:\n",
    "            continue\n",
    "    # Deleting non primes without affecting indices\n",
    "#     for k in arr:\n",
    "#         del series[k]"
   ]
  },
  {
   "cell_type": "code",
   "execution_count": 67,
   "metadata": {},
   "outputs": [],
   "source": [
    "#Deleting empty string from the list\n",
    "for i in range(len(final_list)):\n",
    "    # perform removal\n",
    "    series = final_list[i]\n",
    "    while(\"\" in series) : \n",
    "        series.remove(\"\") \n",
    "    final_list[i] = series"
   ]
  },
  {
   "cell_type": "code",
   "execution_count": 68,
   "metadata": {},
   "outputs": [
    {
     "name": "stdout",
     "output_type": "stream",
     "text": [
      "\n",
      "\tTime Taken = 7.085400819778442\n"
     ]
    }
   ],
   "source": [
    "#Result\n",
    "final_result = []\n",
    "for i in range(len(final_list)):\n",
    "    if len(final_list[i]) >= 8:\n",
    "        final_result.append(final_list[i])\n",
    "\n",
    "#Finding unique list from final_result list\n",
    "myList = final_result\n",
    "my_set = set.union(*map(set,myList))\n",
    "final_result = list(sorted(my_set))\n",
    "\n",
    "\n",
    "print(\"\\n\\tTime Taken = %s\" %(t.time() - start))"
   ]
  },
  {
   "cell_type": "code",
   "execution_count": 69,
   "metadata": {},
   "outputs": [],
   "source": [
    "# for i in range(len(final_result)):\n",
    "#     for j in range(len(final_result[i])):\n",
    "#         final_result[i][j] = int(final_result[i][j])\n",
    "        "
   ]
  },
  {
   "cell_type": "markdown",
   "metadata": {},
   "source": [
    "# Final Result"
   ]
  },
  {
   "cell_type": "code",
   "execution_count": 70,
   "metadata": {},
   "outputs": [
    {
     "data": {
      "text/plain": [
       "[121313, 222323, 323333, 424343, 525353, 626363, 828383, 929393]"
      ]
     },
     "execution_count": 70,
     "metadata": {},
     "output_type": "execute_result"
    }
   ],
   "source": [
    "# Result after deleting all the duplicate lists in 2d list\n",
    "results = list(map(int, final_result)) # converting a list of strings into a list of integer values\n",
    "results\n"
   ]
  },
  {
   "cell_type": "code",
   "execution_count": null,
   "metadata": {},
   "outputs": [],
   "source": []
  }
 ],
 "metadata": {
  "kernelspec": {
   "display_name": "Python 3",
   "language": "python",
   "name": "python3"
  },
  "language_info": {
   "codemirror_mode": {
    "name": "ipython",
    "version": 3
   },
   "file_extension": ".py",
   "mimetype": "text/x-python",
   "name": "python",
   "nbconvert_exporter": "python",
   "pygments_lexer": "ipython3",
   "version": "3.7.3"
  }
 },
 "nbformat": 4,
 "nbformat_minor": 2
}
